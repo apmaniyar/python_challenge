{
 "cells": [
  {
   "cell_type": "code",
   "execution_count": 3,
   "metadata": {},
   "outputs": [],
   "source": [
    "import pandas as pd\n",
    "import numpy as np"
   ]
  },
  {
   "cell_type": "code",
   "execution_count": 4,
   "metadata": {
    "collapsed": true
   },
   "outputs": [
    {
     "data": {
      "text/html": [
       "<div>\n",
       "<style scoped>\n",
       "    .dataframe tbody tr th:only-of-type {\n",
       "        vertical-align: middle;\n",
       "    }\n",
       "\n",
       "    .dataframe tbody tr th {\n",
       "        vertical-align: top;\n",
       "    }\n",
       "\n",
       "    .dataframe thead th {\n",
       "        text-align: right;\n",
       "    }\n",
       "</style>\n",
       "<table border=\"1\" class=\"dataframe\">\n",
       "  <thead>\n",
       "    <tr style=\"text-align: right;\">\n",
       "      <th></th>\n",
       "      <th>Voter ID</th>\n",
       "      <th>County</th>\n",
       "      <th>Candidate</th>\n",
       "    </tr>\n",
       "  </thead>\n",
       "  <tbody>\n",
       "    <tr>\n",
       "      <th>0</th>\n",
       "      <td>1405627</td>\n",
       "      <td>Harsaw</td>\n",
       "      <td>Vestal</td>\n",
       "    </tr>\n",
       "    <tr>\n",
       "      <th>1</th>\n",
       "      <td>1711723</td>\n",
       "      <td>Mershville</td>\n",
       "      <td>Vestal</td>\n",
       "    </tr>\n",
       "    <tr>\n",
       "      <th>2</th>\n",
       "      <td>1550639</td>\n",
       "      <td>Matterdawn</td>\n",
       "      <td>Vestal</td>\n",
       "    </tr>\n",
       "    <tr>\n",
       "      <th>3</th>\n",
       "      <td>1042621</td>\n",
       "      <td>Harsaw</td>\n",
       "      <td>Vestal</td>\n",
       "    </tr>\n",
       "    <tr>\n",
       "      <th>4</th>\n",
       "      <td>1583965</td>\n",
       "      <td>Matterdawn</td>\n",
       "      <td>Vestal</td>\n",
       "    </tr>\n",
       "  </tbody>\n",
       "</table>\n",
       "</div>"
      ],
      "text/plain": [
       "   Voter ID      County Candidate\n",
       "0   1405627      Harsaw    Vestal\n",
       "1   1711723  Mershville    Vestal\n",
       "2   1550639  Matterdawn    Vestal\n",
       "3   1042621      Harsaw    Vestal\n",
       "4   1583965  Matterdawn    Vestal"
      ]
     },
     "execution_count": 4,
     "metadata": {},
     "output_type": "execute_result"
    }
   ],
   "source": [
    "csvpath1 = \"/Users/arjun.maniyar/Documents/Project Files/GWAR201802DATA4-Class-Repository-DATA/02-Homework/03-Python/Instructions/PyPoll/raw_data/election_data_1.csv\"\n",
    "csvpath1_pd = pd.read_csv(csvpath1)\n",
    "csvpath1_pd.head()"
   ]
  },
  {
   "cell_type": "code",
   "execution_count": 6,
   "metadata": {},
   "outputs": [],
   "source": [
    "csvpath2 = \"/Users/arjun.maniyar/Documents/Project Files/GWAR201802DATA4-Class-Repository-DATA/02-Homework/03-Python/Instructions/PyPoll/raw_data/election_data_2.csv\"\n",
    "csvpath2_pd = pd.read_csv(csvpath2)\n"
   ]
  },
  {
   "cell_type": "code",
   "execution_count": 7,
   "metadata": {},
   "outputs": [],
   "source": [
    "frames = [csvpath1_pd, csvpath2_pd]"
   ]
  },
  {
   "cell_type": "code",
   "execution_count": 9,
   "metadata": {
    "collapsed": true
   },
   "outputs": [
    {
     "data": {
      "text/plain": [
       "<bound method NDFrame.head of          Voter ID      County Candidate\n",
       "0         1405627      Harsaw    Vestal\n",
       "1         1711723  Mershville    Vestal\n",
       "2         1550639  Matterdawn    Vestal\n",
       "3         1042621      Harsaw    Vestal\n",
       "4         1583965  Matterdawn    Vestal\n",
       "5         1943299  Mershville    Vestal\n",
       "6         1880982      Harsaw    Torres\n",
       "7         1305689      Harsaw    Torres\n",
       "8         1759114  Mershville    Vestal\n",
       "9         1745020  Matterdawn      Seth\n",
       "10        1562401      Harsaw    Vestal\n",
       "11        1467337      Porpus    Torres\n",
       "12        1091170  Matterdawn    Torres\n",
       "13        1947604      Harsaw    Vestal\n",
       "14        1400758  Mershville    Torres\n",
       "15        1009045  Matterdawn    Vestal\n",
       "16        1246891  Matterdawn    Cordin\n",
       "17        1744120  Matterdawn    Vestal\n",
       "18        1571939  Mershville    Vestal\n",
       "19        1936895  Matterdawn    Vestal\n",
       "20        1122582  Matterdawn    Torres\n",
       "21        1307503  Mershville    Torres\n",
       "22        1594030      Harsaw    Torres\n",
       "23        1072081  Mershville    Torres\n",
       "24        1368919  Mershville    Vestal\n",
       "25        1954121      Harsaw    Torres\n",
       "26        1427438  Matterdawn    Vestal\n",
       "27        1049416      Porpus    Torres\n",
       "28        1619112      Harsaw    Torres\n",
       "29        1725473  Mershville    Vestal\n",
       "...           ...         ...       ...\n",
       "3520971  17923362       Marsh      Khan\n",
       "3520972  11357988       Marsh      Khan\n",
       "3520973  13741548       Marsh    Correy\n",
       "3520974  19929693       Marsh      Khan\n",
       "3520975  16441960       Marsh      Khan\n",
       "3520976  19992954       Marsh  O'Tooley\n",
       "3520977  13845046       Marsh      Khan\n",
       "3520978  18550834       Marsh    Correy\n",
       "3520979  17540334       Queen      Khan\n",
       "3520980  11020483       Queen  O'Tooley\n",
       "3520981  15912885     Trandee      Khan\n",
       "3520982  12609301       Marsh      Khan\n",
       "3520983  14774584       Marsh        Li\n",
       "3520984  13283796       Marsh      Khan\n",
       "3520985  13359648       Bamoo      Khan\n",
       "3520986  17391173       Queen    Correy\n",
       "3520987  18995053       Queen      Khan\n",
       "3520988  11867516       Bamoo        Li\n",
       "3520989  18589143       Marsh      Khan\n",
       "3520990  12282098       Marsh      Khan\n",
       "3520991  16950418       Marsh    Correy\n",
       "3520992  13715415       Marsh      Khan\n",
       "3520993  18129849       Marsh      Khan\n",
       "3520994  15785886       Marsh    Correy\n",
       "3520995  12890090       Marsh    Correy\n",
       "3520996  18050509       Marsh      Khan\n",
       "3520997  13060332       Marsh      Khan\n",
       "3520998  16754708       Queen      Khan\n",
       "3520999  12083146       Queen      Khan\n",
       "3521000  14526187       Queen  O'Tooley\n",
       "\n",
       "[4324001 rows x 3 columns]>"
      ]
     },
     "execution_count": 9,
     "metadata": {},
     "output_type": "execute_result"
    }
   ],
   "source": [
    "mergecsv = pd.concat(frames)\n",
    "mergecsv.head"
   ]
  },
  {
   "cell_type": "code",
   "execution_count": 23,
   "metadata": {},
   "outputs": [
    {
     "name": "stdout",
     "output_type": "stream",
     "text": [
      "The total number of votes is 4324002\n"
     ]
    }
   ],
   "source": [
    "print(\"The total number of votes is \" + str(len(mergecsv) + 1))"
   ]
  },
  {
   "cell_type": "code",
   "execution_count": 29,
   "metadata": {},
   "outputs": [
    {
     "name": "stdout",
     "output_type": "stream",
     "text": [
      "['Candidate: Vestal' 'Candidate: Torres' 'Candidate: Seth'\n",
      " 'Candidate: Cordin' 'Candidate: Khan' 'Candidate: Correy' 'Candidate: Li'\n",
      " \"Candidate: O'Tooley\"]\n"
     ]
    }
   ],
   "source": [
    "candidate = mergecsv.Candidate.unique()\n",
    "print(\"Candidate: \"+ candidate)"
   ]
  },
  {
   "cell_type": "code",
   "execution_count": 37,
   "metadata": {},
   "outputs": [
    {
     "name": "stdout",
     "output_type": "stream",
     "text": [
      "Vestal had 385440 votes\n",
      "Torres had 353320 votes\n",
      "Seth had 40150 votes\n",
      "Cordin had 24090 votes\n",
      "Khan had 2218231 votes\n",
      "Correy had 704200 votes\n",
      "Li had 492940 votes\n"
     ]
    }
   ],
   "source": [
    "Vestal = mergecsv.Candidate.value_counts()[\"Vestal\"]\n",
    "print(\"Vestal had \" + str(Vestal) + \" votes\")\n",
    "Torres = mergecsv.Candidate.value_counts()[\"Torres\"]\n",
    "print(\"Torres had \" + str(Torres) + \" votes\")\n",
    "Seth = mergecsv.Candidate.value_counts()[\"Seth\"]\n",
    "print(\"Seth had \" + str(Seth) + \" votes\")\n",
    "Cordin = mergecsv.Candidate.value_counts()[\"Cordin\"]\n",
    "print(\"Cordin had \" + str(Cordin) + \" votes\")\n",
    "Khan = mergecsv.Candidate.value_counts()[\"Khan\"]\n",
    "print(\"Khan had \" + str(Khan) + \" votes\")\n",
    "Correy = mergecsv.Candidate.value_counts()[\"Correy\"]\n",
    "print(\"Correy had \" + str(Correy) + \" votes\")\n",
    "Li = mergecsv.Candidate.value_counts()[\"Li\"]\n",
    "print(\"Li had \" + str(Li) + \" votes\")"
   ]
  },
  {
   "cell_type": "code",
   "execution_count": 38,
   "metadata": {},
   "outputs": [
    {
     "name": "stdout",
     "output_type": "stream",
     "text": [
      "The winner of the popular vote was Khan with 2218231 votes\n"
     ]
    }
   ],
   "source": [
    "print(\"The winner of the popular vote was Khan with 2218231 votes\")"
   ]
  },
  {
   "cell_type": "code",
   "execution_count": null,
   "metadata": {},
   "outputs": [],
   "source": []
  }
 ],
 "metadata": {
  "kernelspec": {
   "display_name": "Python 3",
   "language": "python",
   "name": "python3"
  },
  "language_info": {
   "codemirror_mode": {
    "name": "ipython",
    "version": 3
   },
   "file_extension": ".py",
   "mimetype": "text/x-python",
   "name": "python",
   "nbconvert_exporter": "python",
   "pygments_lexer": "ipython3",
   "version": "3.6.4"
  }
 },
 "nbformat": 4,
 "nbformat_minor": 2
}
